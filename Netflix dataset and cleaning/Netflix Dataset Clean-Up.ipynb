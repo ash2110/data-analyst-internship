{
 "cells": [
  {
   "cell_type": "code",
   "execution_count": 1,
   "id": "258ba9f7-2d04-4740-a357-ed887574465c",
   "metadata": {},
   "outputs": [],
   "source": [
    "import pandas as pd"
   ]
  },
  {
   "cell_type": "code",
   "execution_count": 3,
   "id": "bec7503c-1491-4d06-862b-b164fdaed181",
   "metadata": {},
   "outputs": [],
   "source": [
    "df = pd.read_csv(r\"C:\\Users\\ashwa\\Downloads\\netflix_titles.csv\")"
   ]
  },
  {
   "cell_type": "code",
   "execution_count": 7,
   "id": "81d6b4dd-c04c-441c-a882-8235d04b041c",
   "metadata": {},
   "outputs": [
    {
     "name": "stdout",
     "output_type": "stream",
     "text": [
      "Number of rows and columns: (8807, 12)\n",
      "Column names ['show_id', 'type', 'title', 'director', 'cast', 'country', 'date_added', 'release_year', 'rating', 'duration', 'listed_in', 'description']\n",
      "<class 'pandas.core.frame.DataFrame'>\n",
      "RangeIndex: 8807 entries, 0 to 8806\n",
      "Data columns (total 12 columns):\n",
      " #   Column        Non-Null Count  Dtype \n",
      "---  ------        --------------  ----- \n",
      " 0   show_id       8807 non-null   object\n",
      " 1   type          8807 non-null   object\n",
      " 2   title         8807 non-null   object\n",
      " 3   director      6173 non-null   object\n",
      " 4   cast          7982 non-null   object\n",
      " 5   country       7976 non-null   object\n",
      " 6   date_added    8797 non-null   object\n",
      " 7   release_year  8807 non-null   int64 \n",
      " 8   rating        8803 non-null   object\n",
      " 9   duration      8804 non-null   object\n",
      " 10  listed_in     8807 non-null   object\n",
      " 11  description   8807 non-null   object\n",
      "dtypes: int64(1), object(11)\n",
      "memory usage: 825.8+ KB\n"
     ]
    },
    {
     "data": {
      "text/plain": [
       "show_id            0\n",
       "type               0\n",
       "title              0\n",
       "director        2634\n",
       "cast             825\n",
       "country          831\n",
       "date_added        10\n",
       "release_year       0\n",
       "rating             4\n",
       "duration           3\n",
       "listed_in          0\n",
       "description        0\n",
       "dtype: int64"
      ]
     },
     "execution_count": 7,
     "metadata": {},
     "output_type": "execute_result"
    }
   ],
   "source": [
    "# check the shape of the dataset\n",
    "print(\"Number of rows and columns:\", df.shape)\n",
    "\n",
    "# check the column names\n",
    "print(\"Column names\", df.columns.tolist())\n",
    "\n",
    "# Get basic information sbout data types and missing values\n",
    "df.info()\n",
    "\n",
    "# check for null values\n",
    "df.isnull().sum()"
   ]
  },
  {
   "cell_type": "code",
   "execution_count": 9,
   "id": "ec5e9181-ae65-4f31-b48b-34bb0e98ddce",
   "metadata": {},
   "outputs": [
    {
     "data": {
      "text/plain": [
       "show_id         0\n",
       "type            0\n",
       "title           0\n",
       "director        0\n",
       "cast            0\n",
       "country         0\n",
       "date_added      0\n",
       "release_year    0\n",
       "rating          0\n",
       "duration        3\n",
       "listed_in       0\n",
       "description     0\n",
       "dtype: int64"
      ]
     },
     "execution_count": 9,
     "metadata": {},
     "output_type": "execute_result"
    }
   ],
   "source": [
    "# Fill missing 'country' values with \"Unknown\"\n",
    "df['country'] = df['country'].fillna('Unknown')\n",
    "\n",
    "# Fill missing 'cast' and 'director' with \"Not Specified\"\n",
    "df['cast'] = df['cast'].fillna('Not Specified')\n",
    "df['director'] = df['director'].fillna('Not Specified')\n",
    "\n",
    "# Drop rows where 'date_added' or 'rating' is missing, if they are few\n",
    "df = df.dropna(subset=['date_added', 'rating'])\n",
    "\n",
    "# Confirm all missing values are handled\n",
    "df.isnull().sum()"
   ]
  },
  {
   "cell_type": "code",
   "execution_count": 17,
   "id": "786787cf-dbc2-47f4-9cbe-ea646c5bcb9c",
   "metadata": {},
   "outputs": [
    {
     "name": "stdout",
     "output_type": "stream",
     "text": [
      "Number of completely duplicated rows: 0\n"
     ]
    },
    {
     "data": {
      "text/html": [
       "<div>\n",
       "<style scoped>\n",
       "    .dataframe tbody tr th:only-of-type {\n",
       "        vertical-align: middle;\n",
       "    }\n",
       "\n",
       "    .dataframe tbody tr th {\n",
       "        vertical-align: top;\n",
       "    }\n",
       "\n",
       "    .dataframe thead th {\n",
       "        text-align: right;\n",
       "    }\n",
       "</style>\n",
       "<table border=\"1\" class=\"dataframe\">\n",
       "  <thead>\n",
       "    <tr style=\"text-align: right;\">\n",
       "      <th></th>\n",
       "      <th>show_id</th>\n",
       "      <th>type</th>\n",
       "      <th>title</th>\n",
       "      <th>director</th>\n",
       "      <th>cast</th>\n",
       "      <th>country</th>\n",
       "      <th>date_added</th>\n",
       "      <th>release_year</th>\n",
       "      <th>rating</th>\n",
       "      <th>duration</th>\n",
       "      <th>listed_in</th>\n",
       "      <th>description</th>\n",
       "      <th>year_added</th>\n",
       "      <th>month_added</th>\n",
       "    </tr>\n",
       "  </thead>\n",
       "  <tbody>\n",
       "  </tbody>\n",
       "</table>\n",
       "</div>"
      ],
      "text/plain": [
       "Empty DataFrame\n",
       "Columns: [show_id, type, title, director, cast, country, date_added, release_year, rating, duration, listed_in, description, year_added, month_added]\n",
       "Index: []"
      ]
     },
     "execution_count": 17,
     "metadata": {},
     "output_type": "execute_result"
    }
   ],
   "source": [
    "# Check for completely duplicated rows\n",
    "duplicate_rows = df[df.duplicated()]\n",
    "print(f\"Number of completely duplicated rows: {duplicate_rows.shape[0]}\")\n",
    "\n",
    "# If you'd like to see some of them:\n",
    "duplicate_rows.head()"
   ]
  },
  {
   "cell_type": "code",
   "execution_count": 19,
   "id": "d3d1b3c1-7819-4a69-b1de-192b1172c2ba",
   "metadata": {},
   "outputs": [
    {
     "name": "stdout",
     "output_type": "stream",
     "text": [
      "Number of duplicated titles: 1\n"
     ]
    },
    {
     "data": {
      "text/plain": [
       "title\n",
       "Consequences    2\n",
       "Name: count, dtype: int64"
      ]
     },
     "execution_count": 19,
     "metadata": {},
     "output_type": "execute_result"
    }
   ],
   "source": [
    "# Check how many times each title appears\n",
    "title_counts = df['title'].value_counts()\n",
    "\n",
    "# Show titles that appear more than once\n",
    "duplicate_titles = title_counts[title_counts > 1]\n",
    "print(f\"Number of duplicated titles: {duplicate_titles.shape[0]}\")\n",
    "duplicate_titles.head()"
   ]
  },
  {
   "cell_type": "code",
   "execution_count": 21,
   "id": "da19dcc7-e584-4bfd-8d88-aa7e384f87a1",
   "metadata": {},
   "outputs": [
    {
     "data": {
      "text/html": [
       "<div>\n",
       "<style scoped>\n",
       "    .dataframe tbody tr th:only-of-type {\n",
       "        vertical-align: middle;\n",
       "    }\n",
       "\n",
       "    .dataframe tbody tr th {\n",
       "        vertical-align: top;\n",
       "    }\n",
       "\n",
       "    .dataframe thead th {\n",
       "        text-align: right;\n",
       "    }\n",
       "</style>\n",
       "<table border=\"1\" class=\"dataframe\">\n",
       "  <thead>\n",
       "    <tr style=\"text-align: right;\">\n",
       "      <th></th>\n",
       "      <th>show_id</th>\n",
       "      <th>type</th>\n",
       "      <th>title</th>\n",
       "      <th>director</th>\n",
       "      <th>cast</th>\n",
       "      <th>country</th>\n",
       "      <th>date_added</th>\n",
       "      <th>release_year</th>\n",
       "      <th>rating</th>\n",
       "      <th>duration</th>\n",
       "      <th>listed_in</th>\n",
       "      <th>description</th>\n",
       "      <th>year_added</th>\n",
       "      <th>month_added</th>\n",
       "    </tr>\n",
       "  </thead>\n",
       "  <tbody>\n",
       "    <tr>\n",
       "      <th>3371</th>\n",
       "      <td>s3372</td>\n",
       "      <td>Movie</td>\n",
       "      <td>Consequences</td>\n",
       "      <td>Ozan Açıktan</td>\n",
       "      <td>Nehir Erdoğan, Tardu Flordun, İlker Kaleli, Se...</td>\n",
       "      <td>Turkey</td>\n",
       "      <td>2019-10-25</td>\n",
       "      <td>2014</td>\n",
       "      <td>TV-MA</td>\n",
       "      <td>106 min</td>\n",
       "      <td>Dramas, International Movies, Thrillers</td>\n",
       "      <td>Secrets bubble to the surface after a sensual ...</td>\n",
       "      <td>2019</td>\n",
       "      <td>10</td>\n",
       "    </tr>\n",
       "    <tr>\n",
       "      <th>6529</th>\n",
       "      <td>s6530</td>\n",
       "      <td>Movie</td>\n",
       "      <td>Consequences</td>\n",
       "      <td>Ozan Açıktan</td>\n",
       "      <td>Nehir Erdoğan, Tardu Flordun, İlker Kaleli, Se...</td>\n",
       "      <td>Turkey</td>\n",
       "      <td>2019-10-25</td>\n",
       "      <td>2014</td>\n",
       "      <td>TV-MA</td>\n",
       "      <td>106 min</td>\n",
       "      <td>Dramas, International Movies, Thrillers</td>\n",
       "      <td>Secrets bubble to the surface after a sensual ...</td>\n",
       "      <td>2019</td>\n",
       "      <td>10</td>\n",
       "    </tr>\n",
       "  </tbody>\n",
       "</table>\n",
       "</div>"
      ],
      "text/plain": [
       "     show_id   type         title      director  \\\n",
       "3371   s3372  Movie  Consequences  Ozan Açıktan   \n",
       "6529   s6530  Movie  Consequences  Ozan Açıktan   \n",
       "\n",
       "                                                   cast country date_added  \\\n",
       "3371  Nehir Erdoğan, Tardu Flordun, İlker Kaleli, Se...  Turkey 2019-10-25   \n",
       "6529  Nehir Erdoğan, Tardu Flordun, İlker Kaleli, Se...  Turkey 2019-10-25   \n",
       "\n",
       "      release_year rating duration                                listed_in  \\\n",
       "3371          2014  TV-MA  106 min  Dramas, International Movies, Thrillers   \n",
       "6529          2014  TV-MA  106 min  Dramas, International Movies, Thrillers   \n",
       "\n",
       "                                            description  year_added  \\\n",
       "3371  Secrets bubble to the surface after a sensual ...        2019   \n",
       "6529  Secrets bubble to the surface after a sensual ...        2019   \n",
       "\n",
       "      month_added  \n",
       "3371           10  \n",
       "6529           10  "
      ]
     },
     "execution_count": 21,
     "metadata": {},
     "output_type": "execute_result"
    }
   ],
   "source": [
    "# Show all rows where the title is \"Consequences\"\n",
    "df[df['title'] == 'Consequences']"
   ]
  },
  {
   "cell_type": "code",
   "execution_count": 23,
   "id": "254e0fed-95fd-4c7e-8601-068a8f81cb07",
   "metadata": {},
   "outputs": [
    {
     "name": "stdout",
     "output_type": "stream",
     "text": [
      "Number of times 'Consequences' appears now: 1\n"
     ]
    }
   ],
   "source": [
    "# Drop duplicated titles, keeping only the first occurrence\n",
    "df = df.drop_duplicates(subset='title', keep='first')\n",
    "\n",
    "# Confirm it's gone\n",
    "print(f\"Number of times 'Consequences' appears now: {df[df['title'] == 'Consequences'].shape[0]}\")"
   ]
  },
  {
   "cell_type": "code",
   "execution_count": 13,
   "id": "434dfbde-411d-41b6-9859-fe30e8f9cdd1",
   "metadata": {},
   "outputs": [
    {
     "name": "stdout",
     "output_type": "stream",
     "text": [
      "Unparsed date entries (NaT): 0\n"
     ]
    },
    {
     "data": {
      "text/html": [
       "<div>\n",
       "<style scoped>\n",
       "    .dataframe tbody tr th:only-of-type {\n",
       "        vertical-align: middle;\n",
       "    }\n",
       "\n",
       "    .dataframe tbody tr th {\n",
       "        vertical-align: top;\n",
       "    }\n",
       "\n",
       "    .dataframe thead th {\n",
       "        text-align: right;\n",
       "    }\n",
       "</style>\n",
       "<table border=\"1\" class=\"dataframe\">\n",
       "  <thead>\n",
       "    <tr style=\"text-align: right;\">\n",
       "      <th></th>\n",
       "      <th>date_added</th>\n",
       "      <th>year_added</th>\n",
       "      <th>month_added</th>\n",
       "    </tr>\n",
       "  </thead>\n",
       "  <tbody>\n",
       "    <tr>\n",
       "      <th>0</th>\n",
       "      <td>2021-09-25</td>\n",
       "      <td>2021</td>\n",
       "      <td>9</td>\n",
       "    </tr>\n",
       "    <tr>\n",
       "      <th>1</th>\n",
       "      <td>2021-09-24</td>\n",
       "      <td>2021</td>\n",
       "      <td>9</td>\n",
       "    </tr>\n",
       "    <tr>\n",
       "      <th>2</th>\n",
       "      <td>2021-09-24</td>\n",
       "      <td>2021</td>\n",
       "      <td>9</td>\n",
       "    </tr>\n",
       "    <tr>\n",
       "      <th>3</th>\n",
       "      <td>2021-09-24</td>\n",
       "      <td>2021</td>\n",
       "      <td>9</td>\n",
       "    </tr>\n",
       "    <tr>\n",
       "      <th>4</th>\n",
       "      <td>2021-09-24</td>\n",
       "      <td>2021</td>\n",
       "      <td>9</td>\n",
       "    </tr>\n",
       "  </tbody>\n",
       "</table>\n",
       "</div>"
      ],
      "text/plain": [
       "  date_added  year_added  month_added\n",
       "0 2021-09-25        2021            9\n",
       "1 2021-09-24        2021            9\n",
       "2 2021-09-24        2021            9\n",
       "3 2021-09-24        2021            9\n",
       "4 2021-09-24        2021            9"
      ]
     },
     "execution_count": 13,
     "metadata": {},
     "output_type": "execute_result"
    }
   ],
   "source": [
    "# Strip leading/trailing spaces from 'date_added'\n",
    "df['date_added'] = df['date_added'].str.strip()\n",
    "\n",
    "# Now convert to datetime\n",
    "df['date_added'] = pd.to_datetime(df['date_added'], format=\"%B %d, %Y\", errors='coerce')\n",
    "\n",
    "# After conversion, check if any dates couldn't be parsed\n",
    "print(\"Unparsed date entries (NaT):\", df['date_added'].isna().sum())\n",
    "\n",
    "# Optional: Drop rows where date couldn't be parsed (if any)\n",
    "df = df.dropna(subset=['date_added'])\n",
    "\n",
    "# Extract year and month for analysis\n",
    "df['year_added'] = df['date_added'].dt.year\n",
    "df['month_added'] = df['date_added'].dt.month\n",
    "\n",
    "# Preview the changes\n",
    "df[['date_added', 'year_added', 'month_added']].head()"
   ]
  },
  {
   "cell_type": "code",
   "execution_count": 25,
   "id": "3918eb11-8204-4e29-81d1-b1148f574f3c",
   "metadata": {},
   "outputs": [
    {
     "name": "stdout",
     "output_type": "stream",
     "text": [
      "Cleaned column names: ['show_id', 'type', 'title', 'director', 'cast', 'country', 'date_added', 'release_year', 'rating', 'duration', 'listed_in', 'description', 'year_added', 'month_added']\n"
     ]
    }
   ],
   "source": [
    "# Clean column names: lowercase, strip spaces, replace spaces with underscores\n",
    "df.columns = df.columns.str.strip().str.lower().str.replace(' ', '_')\n",
    "\n",
    "# Preview the new column headers\n",
    "print(\"Cleaned column names:\", df.columns.tolist())"
   ]
  },
  {
   "cell_type": "code",
   "execution_count": 15,
   "id": "29f80ed3-12bb-4031-b22b-1f0d8a9f253b",
   "metadata": {},
   "outputs": [
    {
     "name": "stdout",
     "output_type": "stream",
     "text": [
      "Unique content types: ['Movie' 'TV Show']\n",
      "Unique ratings: ['PG-13' 'TV-MA' 'PG' 'TV-14' 'TV-PG' 'TV-Y' 'TV-Y7' 'R' 'TV-G' 'G'\n",
      " 'NC-17' '74 min' '84 min' '66 min' 'NR' 'TV-Y7-FV' 'UR']\n"
     ]
    }
   ],
   "source": [
    "# Strip extra spaces from object type columns (e.g., 'type', 'title', etc.)\n",
    "df['type'] = df['type'].str.strip()\n",
    "df['title'] = df['title'].str.strip()\n",
    "df['rating'] = df['rating'].str.strip()\n",
    "\n",
    "# Check unique types and ratings\n",
    "print(\"Unique content types:\", df['type'].unique())\n",
    "print(\"Unique ratings:\", df['rating'].unique())"
   ]
  }
 ],
 "metadata": {
  "kernelspec": {
   "display_name": "Python 3 (ipykernel)",
   "language": "python",
   "name": "python3"
  },
  "language_info": {
   "codemirror_mode": {
    "name": "ipython",
    "version": 3
   },
   "file_extension": ".py",
   "mimetype": "text/x-python",
   "name": "python",
   "nbconvert_exporter": "python",
   "pygments_lexer": "ipython3",
   "version": "3.12.7"
  }
 },
 "nbformat": 4,
 "nbformat_minor": 5
}
